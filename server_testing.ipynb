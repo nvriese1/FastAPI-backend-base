{
 "cells": [
  {
   "cell_type": "markdown",
   "metadata": {},
   "source": [
    "### Test Backend Microservice(s)"
   ]
  },
  {
   "cell_type": "markdown",
   "metadata": {},
   "source": [
    "Following build and deployment, this notebook can be used to test various endpoints while the application is running."
   ]
  },
  {
   "cell_type": "code",
   "execution_count": 2,
   "metadata": {},
   "outputs": [
    {
     "name": "stdout",
     "output_type": "stream",
     "text": [
      "Response Status: 200\n",
      "\n",
      "{'response': 'Hello world!'}\n"
     ]
    }
   ],
   "source": [
    "import os\n",
    "import requests\n",
    "import json\n",
    "from typing import *\n",
    "\n",
    "# Headers\n",
    "token = \"ExampleToken\"\n",
    "headers = {\n",
    "    'Content-Type': 'application/json',\n",
    "    'Authorization': f'Bearer {token}',\n",
    "}\n",
    "\n",
    "# Specify payload\n",
    "payload = {\n",
    "    'example_field': \"Hello there, we've been trying to reach you about your car's extended warranty\"\n",
    "}\n",
    "\n",
    "url = 'http://localhost:8080/example_endpoint'\n",
    "\n",
    "# Send request / get response\n",
    "response = requests.post(url, headers=headers, data=json.dumps(payload))\n",
    "print(f'Response Status: {response.status_code}\\n')\n",
    "print(response.json())"
   ]
  }
 ],
 "metadata": {
  "kernelspec": {
   "display_name": "cv",
   "language": "python",
   "name": "python3"
  },
  "language_info": {
   "codemirror_mode": {
    "name": "ipython",
    "version": 3
   },
   "file_extension": ".py",
   "mimetype": "text/x-python",
   "name": "python",
   "nbconvert_exporter": "python",
   "pygments_lexer": "ipython3",
   "version": "3.10.14"
  },
  "orig_nbformat": 4
 },
 "nbformat": 4,
 "nbformat_minor": 2
}
